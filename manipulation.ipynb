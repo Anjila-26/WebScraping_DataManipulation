{
 "cells": [
  {
   "cell_type": "code",
   "execution_count": 2,
   "metadata": {},
   "outputs": [],
   "source": [
    "import pandas as pd\n",
    "import matplotlib.pyplot as plt\n",
    "import numpy as np"
   ]
  },
  {
   "cell_type": "markdown",
   "metadata": {},
   "source": [
    "# Import csv file"
   ]
  },
  {
   "cell_type": "code",
   "execution_count": 3,
   "metadata": {},
   "outputs": [
    {
     "data": {
      "text/html": [
       "<div>\n",
       "<style scoped>\n",
       "    .dataframe tbody tr th:only-of-type {\n",
       "        vertical-align: middle;\n",
       "    }\n",
       "\n",
       "    .dataframe tbody tr th {\n",
       "        vertical-align: top;\n",
       "    }\n",
       "\n",
       "    .dataframe thead th {\n",
       "        text-align: right;\n",
       "    }\n",
       "</style>\n",
       "<table border=\"1\" class=\"dataframe\">\n",
       "  <thead>\n",
       "    <tr style=\"text-align: right;\">\n",
       "      <th></th>\n",
       "      <th>Product_name</th>\n",
       "      <th>Prices</th>\n",
       "      <th>Description</th>\n",
       "      <th>Rating</th>\n",
       "    </tr>\n",
       "  </thead>\n",
       "  <tbody>\n",
       "    <tr>\n",
       "      <th>0</th>\n",
       "      <td>Aroma NB119B Badshah 60 Hours Playing Time Fas...</td>\n",
       "      <td>₹431</td>\n",
       "      <td>Blue, In the Ear</td>\n",
       "      <td>4.0</td>\n",
       "    </tr>\n",
       "    <tr>\n",
       "      <th>1</th>\n",
       "      <td>OnePlus Nord Buds Bluetooth Headset</td>\n",
       "      <td>₹2,699</td>\n",
       "      <td>Black Slate, True Wireless</td>\n",
       "      <td>4.3</td>\n",
       "    </tr>\n",
       "    <tr>\n",
       "      <th>2</th>\n",
       "      <td>HOPPUP GRAND With Power Bank Function &amp; Upto 7...</td>\n",
       "      <td>₹599</td>\n",
       "      <td>Black, True Wireless</td>\n",
       "      <td>3.9</td>\n",
       "    </tr>\n",
       "    <tr>\n",
       "      <th>3</th>\n",
       "      <td>Boult Audio ProBass YCharge with Fast Charging...</td>\n",
       "      <td>₹699</td>\n",
       "      <td>Black, In the Ear</td>\n",
       "      <td>4.0</td>\n",
       "    </tr>\n",
       "    <tr>\n",
       "      <th>4</th>\n",
       "      <td>boAt Bassheads 100 Wired Headset</td>\n",
       "      <td>₹399</td>\n",
       "      <td>Black, In the Ear</td>\n",
       "      <td>4.3</td>\n",
       "    </tr>\n",
       "  </tbody>\n",
       "</table>\n",
       "</div>"
      ],
      "text/plain": [
       "                                        Product_name  Prices  \\\n",
       "0  Aroma NB119B Badshah 60 Hours Playing Time Fas...    ₹431   \n",
       "1                OnePlus Nord Buds Bluetooth Headset  ₹2,699   \n",
       "2  HOPPUP GRAND With Power Bank Function & Upto 7...    ₹599   \n",
       "3  Boult Audio ProBass YCharge with Fast Charging...    ₹699   \n",
       "4                   boAt Bassheads 100 Wired Headset    ₹399   \n",
       "\n",
       "                  Description  Rating  \n",
       "0            Blue, In the Ear     4.0  \n",
       "1  Black Slate, True Wireless     4.3  \n",
       "2        Black, True Wireless     3.9  \n",
       "3           Black, In the Ear     4.0  \n",
       "4           Black, In the Ear     4.3  "
      ]
     },
     "execution_count": 3,
     "metadata": {},
     "output_type": "execute_result"
    }
   ],
   "source": [
    "df = pd.read_csv(\"Headphone_data.csv\", index_col=0)\n",
    "df.head()"
   ]
  },
  {
   "cell_type": "markdown",
   "metadata": {},
   "source": [
    "# Removing the unnecessary symbols in Price"
   ]
  },
  {
   "cell_type": "code",
   "execution_count": 4,
   "metadata": {},
   "outputs": [],
   "source": [
    "df['Prices'] = df['Prices'].astype(str)\n",
    "df['Prices'] = df['Prices'].str.replace('₹','')\n",
    "df['Prices'] = df['Prices'].str.replace(',','')\n",
    "df['Prices'] = df['Prices'].astype(int)\n"
   ]
  },
  {
   "cell_type": "code",
   "execution_count": 5,
   "metadata": {},
   "outputs": [
    {
     "data": {
      "text/html": [
       "<div>\n",
       "<style scoped>\n",
       "    .dataframe tbody tr th:only-of-type {\n",
       "        vertical-align: middle;\n",
       "    }\n",
       "\n",
       "    .dataframe tbody tr th {\n",
       "        vertical-align: top;\n",
       "    }\n",
       "\n",
       "    .dataframe thead th {\n",
       "        text-align: right;\n",
       "    }\n",
       "</style>\n",
       "<table border=\"1\" class=\"dataframe\">\n",
       "  <thead>\n",
       "    <tr style=\"text-align: right;\">\n",
       "      <th></th>\n",
       "      <th>Product_name</th>\n",
       "      <th>Prices</th>\n",
       "      <th>Description</th>\n",
       "      <th>Rating</th>\n",
       "    </tr>\n",
       "  </thead>\n",
       "  <tbody>\n",
       "    <tr>\n",
       "      <th>0</th>\n",
       "      <td>Aroma NB119B Badshah 60 Hours Playing Time Fas...</td>\n",
       "      <td>431</td>\n",
       "      <td>Blue, In the Ear</td>\n",
       "      <td>4.0</td>\n",
       "    </tr>\n",
       "    <tr>\n",
       "      <th>1</th>\n",
       "      <td>OnePlus Nord Buds Bluetooth Headset</td>\n",
       "      <td>2699</td>\n",
       "      <td>Black Slate, True Wireless</td>\n",
       "      <td>4.3</td>\n",
       "    </tr>\n",
       "    <tr>\n",
       "      <th>2</th>\n",
       "      <td>HOPPUP GRAND With Power Bank Function &amp; Upto 7...</td>\n",
       "      <td>599</td>\n",
       "      <td>Black, True Wireless</td>\n",
       "      <td>3.9</td>\n",
       "    </tr>\n",
       "    <tr>\n",
       "      <th>3</th>\n",
       "      <td>Boult Audio ProBass YCharge with Fast Charging...</td>\n",
       "      <td>699</td>\n",
       "      <td>Black, In the Ear</td>\n",
       "      <td>4.0</td>\n",
       "    </tr>\n",
       "    <tr>\n",
       "      <th>4</th>\n",
       "      <td>boAt Bassheads 100 Wired Headset</td>\n",
       "      <td>399</td>\n",
       "      <td>Black, In the Ear</td>\n",
       "      <td>4.3</td>\n",
       "    </tr>\n",
       "  </tbody>\n",
       "</table>\n",
       "</div>"
      ],
      "text/plain": [
       "                                        Product_name  Prices  \\\n",
       "0  Aroma NB119B Badshah 60 Hours Playing Time Fas...     431   \n",
       "1                OnePlus Nord Buds Bluetooth Headset    2699   \n",
       "2  HOPPUP GRAND With Power Bank Function & Upto 7...     599   \n",
       "3  Boult Audio ProBass YCharge with Fast Charging...     699   \n",
       "4                   boAt Bassheads 100 Wired Headset     399   \n",
       "\n",
       "                  Description  Rating  \n",
       "0            Blue, In the Ear     4.0  \n",
       "1  Black Slate, True Wireless     4.3  \n",
       "2        Black, True Wireless     3.9  \n",
       "3           Black, In the Ear     4.0  \n",
       "4           Black, In the Ear     4.3  "
      ]
     },
     "execution_count": 5,
     "metadata": {},
     "output_type": "execute_result"
    }
   ],
   "source": [
    "df.head()"
   ]
  },
  {
   "cell_type": "markdown",
   "metadata": {},
   "source": [
    "# Finding the Correlation Between Prices and Rating "
   ]
  },
  {
   "cell_type": "code",
   "execution_count": 6,
   "metadata": {},
   "outputs": [
    {
     "data": {
      "text/plain": [
       "0.3621122330188288"
      ]
     },
     "execution_count": 6,
     "metadata": {},
     "output_type": "execute_result"
    }
   ],
   "source": [
    "Corr_Price_Rating = df['Prices'].corr(df['Rating'])\n",
    "Corr_Price_Rating"
   ]
  },
  {
   "cell_type": "code",
   "execution_count": 12,
   "metadata": {},
   "outputs": [
    {
     "data": {
      "image/png": "[encoded data removed]",
      "text/plain": [
       "<Figure size 640x480 with 1 Axes>"
      ]
     },
     "metadata": {},
     "output_type": "display_data"
    }
   ],
   "source": [
    "plt.scatter(df['Rating'],df['Prices'])\n",
    "plt. plot (np. unique (df['Rating']), np.poly1d (np. polyfit (df['Rating'], df['Prices'], 1))(np.unique (df['Rating'])), color = 'green')  \n",
    "plt.xlabel(\"Rating\")\n",
    "plt.ylabel(\"Prices\")\n",
    "plt.title(\"Correlation between Prices and Rating\")\n",
    "\n",
    "plt.show()"
   ]
  },
  {
   "cell_type": "markdown",
   "metadata": {},
   "source": [
    "# Highest Rated Product"
   ]
  },
  {
   "cell_type": "code",
   "execution_count": 19,
   "metadata": {},
   "outputs": [
    {
     "name": "stdout",
     "output_type": "stream",
     "text": [
      "APPLE EarPods with Lightning Connector Wired Headset is the highest rated product with 4.4 rating.\n"
     ]
    }
   ],
   "source": [
    "Rating_each = df.groupby(\"Product_name\")[\"Rating\"].max()\n",
    "\n",
    "Rated_Product = Rating_each.idxmax()\n",
    "Highest_Rated = Rating_each.max()\n",
    "\n",
    "print(f'{Rated_Product} is the highest rated product with {Highest_Rated} rating.')\n"
   ]
  },
  {
   "cell_type": "markdown",
   "metadata": {},
   "source": [
    "# Sorting the DataFrame by Price"
   ]
  },
  {
   "cell_type": "code",
   "execution_count": 21,
   "metadata": {},
   "outputs": [
    {
     "data": {
      "text/html": [
       "<div>\n",
       "<style scoped>\n",
       "    .dataframe tbody tr th:only-of-type {\n",
       "        vertical-align: middle;\n",
       "    }\n",
       "\n",
       "    .dataframe tbody tr th {\n",
       "        vertical-align: top;\n",
       "    }\n",
       "\n",
       "    .dataframe thead th {\n",
       "        text-align: right;\n",
       "    }\n",
       "</style>\n",
       "<table border=\"1\" class=\"dataframe\">\n",
       "  <thead>\n",
       "    <tr style=\"text-align: right;\">\n",
       "      <th></th>\n",
       "      <th>Product_name</th>\n",
       "      <th>Prices</th>\n",
       "      <th>Description</th>\n",
       "      <th>Rating</th>\n",
       "    </tr>\n",
       "  </thead>\n",
       "  <tbody>\n",
       "    <tr>\n",
       "      <th>53</th>\n",
       "      <td>Ubon GP-321 Champ Earphone Wired Headset</td>\n",
       "      <td>172</td>\n",
       "      <td>Black, In the Ear</td>\n",
       "      <td>3.7</td>\n",
       "    </tr>\n",
       "    <tr>\n",
       "      <th>25</th>\n",
       "      <td>GREE MATT B11 Bluetooth Headset (Red, In the E...</td>\n",
       "      <td>299</td>\n",
       "      <td>Red, In the Ear</td>\n",
       "      <td>3.9</td>\n",
       "    </tr>\n",
       "    <tr>\n",
       "      <th>62</th>\n",
       "      <td>Mivi Rock Roll E5 With HD Sound Wired Headset</td>\n",
       "      <td>299</td>\n",
       "      <td>Black, In the Ear</td>\n",
       "      <td>4.1</td>\n",
       "    </tr>\n",
       "    <tr>\n",
       "      <th>14</th>\n",
       "      <td>BHAVISHU New I7s WITH SMALL SIZE, SUPER LIGHTW...</td>\n",
       "      <td>375</td>\n",
       "      <td>White, In the Ear</td>\n",
       "      <td>3.8</td>\n",
       "    </tr>\n",
       "    <tr>\n",
       "      <th>51</th>\n",
       "      <td>Aroma NB119B Badshah - 40 Hours Playtime Bluet...</td>\n",
       "      <td>381</td>\n",
       "      <td>Black, In the Ear</td>\n",
       "      <td>4.0</td>\n",
       "    </tr>\n",
       "    <tr>\n",
       "      <th>...</th>\n",
       "      <td>...</td>\n",
       "      <td>...</td>\n",
       "      <td>...</td>\n",
       "      <td>...</td>\n",
       "    </tr>\n",
       "    <tr>\n",
       "      <th>26</th>\n",
       "      <td>OnePlus Nord Buds Bluetooth Headset</td>\n",
       "      <td>2699</td>\n",
       "      <td>Blue Agate, True Wireless</td>\n",
       "      <td>4.3</td>\n",
       "    </tr>\n",
       "    <tr>\n",
       "      <th>1</th>\n",
       "      <td>OnePlus Nord Buds Bluetooth Headset</td>\n",
       "      <td>2699</td>\n",
       "      <td>Black Slate, True Wireless</td>\n",
       "      <td>4.3</td>\n",
       "    </tr>\n",
       "    <tr>\n",
       "      <th>36</th>\n",
       "      <td>Boult Audio AirBass Z40 with ZEN ENC Mic, 60H ...</td>\n",
       "      <td>4998</td>\n",
       "      <td>Brown, In the Ear</td>\n",
       "      <td>4.2</td>\n",
       "    </tr>\n",
       "    <tr>\n",
       "      <th>32</th>\n",
       "      <td>Boult Audio AirBass Z40 with ZEN ENC Mic, 60H ...</td>\n",
       "      <td>4998</td>\n",
       "      <td>Blue, In the Ear</td>\n",
       "      <td>4.2</td>\n",
       "    </tr>\n",
       "    <tr>\n",
       "      <th>54</th>\n",
       "      <td>Boult Audio Curve ANC with Active Noice Cancel...</td>\n",
       "      <td>5498</td>\n",
       "      <td>Green, In the Ear</td>\n",
       "      <td>4.0</td>\n",
       "    </tr>\n",
       "  </tbody>\n",
       "</table>\n",
       "<p>80 rows × 4 columns</p>\n",
       "</div>"
      ],
      "text/plain": [
       "                                         Product_name  Prices  \\\n",
       "53           Ubon GP-321 Champ Earphone Wired Headset     172   \n",
       "25  GREE MATT B11 Bluetooth Headset (Red, In the E...     299   \n",
       "62      Mivi Rock Roll E5 With HD Sound Wired Headset     299   \n",
       "14  BHAVISHU New I7s WITH SMALL SIZE, SUPER LIGHTW...     375   \n",
       "51  Aroma NB119B Badshah - 40 Hours Playtime Bluet...     381   \n",
       "..                                                ...     ...   \n",
       "26                OnePlus Nord Buds Bluetooth Headset    2699   \n",
       "1                 OnePlus Nord Buds Bluetooth Headset    2699   \n",
       "36  Boult Audio AirBass Z40 with ZEN ENC Mic, 60H ...    4998   \n",
       "32  Boult Audio AirBass Z40 with ZEN ENC Mic, 60H ...    4998   \n",
       "54  Boult Audio Curve ANC with Active Noice Cancel...    5498   \n",
       "\n",
       "                   Description  Rating  \n",
       "53           Black, In the Ear     3.7  \n",
       "25             Red, In the Ear     3.9  \n",
       "62           Black, In the Ear     4.1  \n",
       "14           White, In the Ear     3.8  \n",
       "51           Black, In the Ear     4.0  \n",
       "..                         ...     ...  \n",
       "26   Blue Agate, True Wireless     4.3  \n",
       "1   Black Slate, True Wireless     4.3  \n",
       "36           Brown, In the Ear     4.2  \n",
       "32            Blue, In the Ear     4.2  \n",
       "54           Green, In the Ear     4.0  \n",
       "\n",
       "[80 rows x 4 columns]"
      ]
     },
     "execution_count": 21,
     "metadata": {},
     "output_type": "execute_result"
    }
   ],
   "source": [
    "df.sort_values(by=['Prices'])"
   ]
  },
  {
   "cell_type": "code",
   "execution_count": null,
   "metadata": {},
   "outputs": [],
   "source": []
  }
 ],
 "metadata": {
  "kernelspec": {
   "display_name": "Python 3 (ipykernel)",
   "language": "python",
   "name": "python3"
  },
  "language_info": {
   "codemirror_mode": {
    "name": "ipython",
    "version": 3
   },
   "file_extension": ".py",
   "mimetype": "text/x-python",
   "name": "python",
   "nbconvert_exporter": "python",
   "pygments_lexer": "ipython3",
   "version": "3.9.13"
  }
 },
 "nbformat": 4,
 "nbformat_minor": 2
}
