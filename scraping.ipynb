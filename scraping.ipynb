{
 "cells": [
  {
   "cell_type": "code",
   "execution_count": 10,
   "metadata": {},
   "outputs": [],
   "source": [
    "import requests\n",
    "from bs4 import BeautifulSoup\n",
    "import pandas as pd"
   ]
  },
  {
   "cell_type": "code",
   "execution_count": 2,
   "metadata": {},
   "outputs": [],
   "source": [
    "Product_name  = []\n",
    "Prices = []\n",
    "Description = []\n",
    "Rating = []"
   ]
  },
  {
   "cell_type": "code",
   "execution_count": 3,
   "metadata": {},
   "outputs": [],
   "source": [
    "URL = \"https://www.flipkart.com/search?q=headphone&otracker=search&otracker1=search&marketplace=FLIPKART&as-show=on&as=off&page=\"+str(1)\n",
    "page = requests.get(URL)\n",
    "\n",
    "soup = BeautifulSoup(page.text, \"lxml\")\n"
   ]
  },
  {
   "cell_type": "code",
   "execution_count": 4,
   "metadata": {},
   "outputs": [],
   "source": [
    "box = soup.find('div', class_=\"_1YokD2 _3Mn1Gg\")"
   ]
  },
  {
   "cell_type": "code",
   "execution_count": 5,
   "metadata": {},
   "outputs": [],
   "source": [
    "names = box.find_all('a',class_=\"s1Q9rs\")\n",
    "\n",
    "for name in names:\n",
    "    P_name = name.text\n",
    "    Product_name.append(P_name) \n"
   ]
  },
  {
   "cell_type": "code",
   "execution_count": 6,
   "metadata": {},
   "outputs": [],
   "source": [
    "prices = box.find_all('div',class_=\"_30jeq3\")\n",
    "\n",
    "for price in prices:\n",
    "    Pr_name = price.text\n",
    "    Prices.append(Pr_name)"
   ]
  },
  {
   "cell_type": "code",
   "execution_count": 7,
   "metadata": {},
   "outputs": [],
   "source": [
    "desriptions = box.find_all('div', class_=\"_3Djpdu\")\n",
    "\n",
    "for description in desriptions:\n",
    "    D_name = description.text\n",
    "    Description.append(D_name)\n"
   ]
  },
  {
   "cell_type": "code",
   "execution_count": 8,
   "metadata": {},
   "outputs": [
    {
     "name": "stdout",
     "output_type": "stream",
     "text": [
      "40\n"
     ]
    }
   ],
   "source": [
    "reviews = box.find_all('div', class_=\"_3LWZlK\")\n",
    "\n",
    "for review in reviews:\n",
    "    R_name = review.text\n",
    "    Rating.append(R_name)\n",
    "\n",
    "print(len(Rating))"
   ]
  },
  {
   "cell_type": "code",
   "execution_count": 9,
   "metadata": {},
   "outputs": [
    {
     "name": "stdout",
     "output_type": "stream",
     "text": [
      "[['Boult Audio ProBass YCharge with Fast Charging , Pro+ C...', 'Boult Audio ProBass Fcharge with 40 hrs Playtime, ENC, ...', 'OnePlus Bullets Wireless Z2 with Fast Charge, 30 Hrs Ba...', 'OnePlus Bullets Wireless Z2 Bluetooth Headset', 'Fire-Boltt Fire Pods Ninja G201 Earbuds TWS IWP HD Call...', 'OnePlus Bullets Wireless Z2 Bluetooth Headset', 'boAt Airdopes 131 with upto 60 Hours and ASAP Charge Bl...', 'Boult Audio ProBass Curve Neckband Bluetooth Headset', 'Boult Audio AirBass Y1 TWS Earbuds, 40H Playtime, Fast ...', 'boAt Airdopes 131 with upto 60 Hours and ASAP Charge Bl...', 'boAt Rockerz 235 Pro with upto 20 Hours Playback and AS...', 'Boult Audio ProBass Escape with Zen Tech ENC mic 10Hrs ...', 'boAt Airdopes 161 with ASAP Charge, 10mm Drivers and 17...', 'Aroma NB119B Badshah - 40 Hours Playtime Bluetooth Neck...', 'Boult Audio AirBass Y1 TWS Earbuds, 40H Playtime, Fast ...', 'Boult Audio Airbass Truebuds Bluetooth Headset', 'OPPO Enco Buds 2 with 28 hours Battery life & Deep Nois...', 'Aroma NB119 Titanium - 48 Hours Playtime Bluetooth Neck...', 'OPPO Enco Buds 2 with 28 Hours Playback and AI Deep Noi...', 'Boult Audio ProBass XCharge with Zen Tech ENC mic 28H P...', 'boAt Rockerz 255 Pro+ with ASAP Charge and upto 40 Hour...', 'Fire-Boltt Fire Pods Ninja G201 Earbuds TWS IWP HD Call...', 'boAt Airdopes 163 Bluetooth Headset', 'Mivi DuoPods F40 with 50 Hrs Playtime I13mm Drivers|Mad...', 'Boult Audio Airbass X50 Wireless Earphone / X50 Bluetoo...', 'boAt Airdopes 163 Bluetooth Headset', 'Aroma NB119 Titanium - 48 Hours Playtime Bluetooth Neck...', 'truke Buds Q1 with 30H Playtime, Quad Mic ENC, Game Mod...', 'Wings Phantom 315 Earbuds with 40 hrs Battery Backup, E...', 'Aroma NB120H Crazy - 15 Hours Playtime Bluetooth Neckba...', 'boAt Airdopes 131 with upto 60 Hours and ASAP Charge Bl...', 'Mivi DuoPods M30 earbuds with 42 hours of playtime | Ma...', 'Aroma NB119 Titanium - 48 Hours Playtime Bluetooth Neck...', 'TECHFIRE Fire 500v2 Neckband hi-bass Wireless Bluetooth...', 'boAt Rockerz 255 Pro+ with ASAP Charge and upto 40 Hour...', 'boAt Rockerz 235 Pro with upto 20 Hours Playback and AS...', 'boAt Rockerz 255 Pro+ with ASAP Charge and upto 40 Hour...', 'Aroma NB119Pro Belief 48 Hours Playing Time Fast Chargi...', 'truke BTG1 Earbuds with Game Mode, 48H Playtime, Quad M...', 'Boult Audio Airbass X45 with Quad Mic ENC, 40H Playtime...'], ['₹699', '₹999', '₹1,699', '₹1,699', '₹799', '₹1,699', '₹899', '₹799', '₹999', '₹899', '₹899', '₹799', '₹1,099', '₹381', '₹999', '₹7,998', '₹1,799', '₹499', '₹1,599', '₹799', '₹1,199', '₹799', '₹1,099', '₹899', '₹1,099', '₹1,099', '₹499', '₹1,099', '₹899', '₹296', '₹1,099', '₹899', '₹499', '₹445', '₹1,199', '₹899', '₹1,199', '₹395', '₹999', '₹1,299'], ['Black, In the Ear', 'Blue, In the Ear', 'Magico Black, In the Ear', 'Acoustic Red, In the Ear', 'Black, True Wireless', 'Beam Blue, In the Ear', 'Active Black, True Wireless', 'Blue, Black, Grey, In the Ear', 'White, True Wireless', 'Midnight Blue, True Wireless', 'Active Black, In the Ear', 'Black, In the Ear', 'Pebble Black, True Wireless', 'Black, In the Ear', 'Black, True Wireless', 'Grey, True Wireless', 'Midnight, True Wireless', 'Green, In the Ear', 'Lime Green, True Wireless', 'Black, In the Ear', 'Active Black, In the Ear', 'Pink, True Wireless', 'Active Black, True Wireless', 'Black, True Wireless', 'White, True Wireless', 'Bold Blue, True Wireless', 'Black, In the Ear', 'Black, True Wireless', 'Black, In the Ear', 'Black, In the Ear', 'Ivory White, True Wireless', 'Blue, True Wireless', 'Blue, In the Ear', 'Black, In the Ear', 'Navy Blue, In the Ear', 'Ash Grey, In the Ear', 'Teal Green, In the Ear', 'Blue, In the Ear', 'Black, True Wireless', 'Grey, True Wireless'], ['4', '4', '4.2', '4.2', '4.1', '4.2', '4', '4', '4.1', '4', '4.2', '3.8', '4.1', '4', '4.1', '3.8', '4.2', '4', '4.2', '3.8', '4.2', '4.1', '4.1', '3.8', '4.1', '4.1', '4', '4', '4.4', '3.7', '4', '3.7', '4', '3.9', '4.2', '4.2', '4.2', '4', '4', '4.1']]\n"
     ]
    }
   ],
   "source": [
    "Whole_Product = [Product_name,Prices,Description,Rating]\n",
    "print(Whole_Product)"
   ]
  },
  {
   "cell_type": "code",
   "execution_count": 11,
   "metadata": {},
   "outputs": [
    {
     "name": "stdout",
     "output_type": "stream",
     "text": [
      "                                         Product_name  Prices  \\\n",
      "0   Boult Audio ProBass YCharge with Fast Charging...    ₹699   \n",
      "1   Boult Audio ProBass Fcharge with 40 hrs Playti...    ₹999   \n",
      "2   OnePlus Bullets Wireless Z2 with Fast Charge, ...  ₹1,699   \n",
      "3       OnePlus Bullets Wireless Z2 Bluetooth Headset  ₹1,699   \n",
      "4   Fire-Boltt Fire Pods Ninja G201 Earbuds TWS IW...    ₹799   \n",
      "5       OnePlus Bullets Wireless Z2 Bluetooth Headset  ₹1,699   \n",
      "6   boAt Airdopes 131 with upto 60 Hours and ASAP ...    ₹899   \n",
      "7   Boult Audio ProBass Curve Neckband Bluetooth H...    ₹799   \n",
      "8   Boult Audio AirBass Y1 TWS Earbuds, 40H Playti...    ₹999   \n",
      "9   boAt Airdopes 131 with upto 60 Hours and ASAP ...    ₹899   \n",
      "10  boAt Rockerz 235 Pro with upto 20 Hours Playba...    ₹899   \n",
      "11  Boult Audio ProBass Escape with Zen Tech ENC m...    ₹799   \n",
      "12  boAt Airdopes 161 with ASAP Charge, 10mm Drive...  ₹1,099   \n",
      "13  Aroma NB119B Badshah - 40 Hours Playtime Bluet...    ₹381   \n",
      "14  Boult Audio AirBass Y1 TWS Earbuds, 40H Playti...    ₹999   \n",
      "15     Boult Audio Airbass Truebuds Bluetooth Headset  ₹7,998   \n",
      "16  OPPO Enco Buds 2 with 28 hours Battery life & ...  ₹1,799   \n",
      "17  Aroma NB119 Titanium - 48 Hours Playtime Bluet...    ₹499   \n",
      "18  OPPO Enco Buds 2 with 28 Hours Playback and AI...  ₹1,599   \n",
      "19  Boult Audio ProBass XCharge with Zen Tech ENC ...    ₹799   \n",
      "20  boAt Rockerz 255 Pro+ with ASAP Charge and upt...  ₹1,199   \n",
      "21  Fire-Boltt Fire Pods Ninja G201 Earbuds TWS IW...    ₹799   \n",
      "22                boAt Airdopes 163 Bluetooth Headset  ₹1,099   \n",
      "23  Mivi DuoPods F40 with 50 Hrs Playtime I13mm Dr...    ₹899   \n",
      "24  Boult Audio Airbass X50 Wireless Earphone / X5...  ₹1,099   \n",
      "25                boAt Airdopes 163 Bluetooth Headset  ₹1,099   \n",
      "26  Aroma NB119 Titanium - 48 Hours Playtime Bluet...    ₹499   \n",
      "27  truke Buds Q1 with 30H Playtime, Quad Mic ENC,...  ₹1,099   \n",
      "28  Wings Phantom 315 Earbuds with 40 hrs Battery ...    ₹899   \n",
      "29  Aroma NB120H Crazy - 15 Hours Playtime Bluetoo...    ₹296   \n",
      "30  boAt Airdopes 131 with upto 60 Hours and ASAP ...  ₹1,099   \n",
      "31  Mivi DuoPods M30 earbuds with 42 hours of play...    ₹899   \n",
      "32  Aroma NB119 Titanium - 48 Hours Playtime Bluet...    ₹499   \n",
      "33  TECHFIRE Fire 500v2 Neckband hi-bass Wireless ...    ₹445   \n",
      "34  boAt Rockerz 255 Pro+ with ASAP Charge and upt...  ₹1,199   \n",
      "35  boAt Rockerz 235 Pro with upto 20 Hours Playba...    ₹899   \n",
      "36  boAt Rockerz 255 Pro+ with ASAP Charge and upt...  ₹1,199   \n",
      "37  Aroma NB119Pro Belief 48 Hours Playing Time Fa...    ₹395   \n",
      "38  truke BTG1 Earbuds with Game Mode, 48H Playtim...    ₹999   \n",
      "39  Boult Audio Airbass X45 with Quad Mic ENC, 40H...  ₹1,299   \n",
      "\n",
      "                      Description Rating  \n",
      "0               Black, In the Ear      4  \n",
      "1                Blue, In the Ear      4  \n",
      "2        Magico Black, In the Ear    4.2  \n",
      "3        Acoustic Red, In the Ear    4.2  \n",
      "4            Black, True Wireless    4.1  \n",
      "5           Beam Blue, In the Ear    4.2  \n",
      "6     Active Black, True Wireless      4  \n",
      "7   Blue, Black, Grey, In the Ear      4  \n",
      "8            White, True Wireless    4.1  \n",
      "9    Midnight Blue, True Wireless      4  \n",
      "10       Active Black, In the Ear    4.2  \n",
      "11              Black, In the Ear    3.8  \n",
      "12    Pebble Black, True Wireless    4.1  \n",
      "13              Black, In the Ear      4  \n",
      "14           Black, True Wireless    4.1  \n",
      "15            Grey, True Wireless    3.8  \n",
      "16        Midnight, True Wireless    4.2  \n",
      "17              Green, In the Ear      4  \n",
      "18      Lime Green, True Wireless    4.2  \n",
      "19              Black, In the Ear    3.8  \n",
      "20       Active Black, In the Ear    4.2  \n",
      "21            Pink, True Wireless    4.1  \n",
      "22    Active Black, True Wireless    4.1  \n",
      "23           Black, True Wireless    3.8  \n",
      "24           White, True Wireless    4.1  \n",
      "25       Bold Blue, True Wireless    4.1  \n",
      "26              Black, In the Ear      4  \n",
      "27           Black, True Wireless      4  \n",
      "28              Black, In the Ear    4.4  \n",
      "29              Black, In the Ear    3.7  \n",
      "30     Ivory White, True Wireless      4  \n",
      "31            Blue, True Wireless    3.7  \n",
      "32               Blue, In the Ear      4  \n",
      "33              Black, In the Ear    3.9  \n",
      "34          Navy Blue, In the Ear    4.2  \n",
      "35           Ash Grey, In the Ear    4.2  \n",
      "36         Teal Green, In the Ear    4.2  \n",
      "37               Blue, In the Ear      4  \n",
      "38           Black, True Wireless      4  \n",
      "39            Grey, True Wireless    4.1  \n"
     ]
    }
   ],
   "source": [
    "df = pd.DataFrame({\"Product_name\":Product_name,\"Prices\":Prices,\"Description\":Description,\"Rating\":Rating})\n",
    "print(df)"
   ]
  },
  {
   "cell_type": "code",
   "execution_count": null,
   "metadata": {},
   "outputs": [],
   "source": [
    "df.to_csv(\"Headphones.csv\")"
   ]
  },
  {
   "cell_type": "code",
   "execution_count": 76,
   "metadata": {},
   "outputs": [
    {
     "name": "stdout",
     "output_type": "stream",
     "text": [
      "https://www.flipkart.com/search?q=headphone&otracker=search&otracker1=search&marketplace=FLIPKART&as-show=on&as=off&page=1\n",
      "https://www.flipkart.com/search?q=headphone&otracker=search&otracker1=search&marketplace=FLIPKART&as-show=on&as=off&page=2\n",
      "https://www.flipkart.com/search?q=headphone&otracker=search&otracker1=search&marketplace=FLIPKART&as-show=on&as=off&page=3\n",
      "https://www.flipkart.com/search?q=headphone&otracker=search&otracker1=search&marketplace=FLIPKART&as-show=on&as=off&page=4\n",
      "https://www.flipkart.com/search?q=headphone&otracker=search&otracker1=search&marketplace=FLIPKART&as-show=on&as=off&page=5\n",
      "https://www.flipkart.com/search?q=headphone&otracker=search&otracker1=search&marketplace=FLIPKART&as-show=on&as=off&page=6\n",
      "https://www.flipkart.com/search?q=headphone&otracker=search&otracker1=search&marketplace=FLIPKART&as-show=on&as=off&page=7\n",
      "https://www.flipkart.com/search?q=headphone&otracker=search&otracker1=search&marketplace=FLIPKART&as-show=on&as=off&page=8\n"
     ]
    }
   ],
   "source": [
    "for i in range(2,10):\n",
    "    URL = \"https://www.flipkart.com/search?q=headphone&otracker=search&otracker1=search&marketplace=FLIPKART&as-show=on&as=off&page=\"+str(i)\n",
    "    page = requests.get(URL)\n",
    "\n",
    "    soup = BeautifulSoup(page.text, \"lxml\")\n",
    "\n",
    "    next_page = soup.find(\"a\", class_ = \"_1LKTO3\").get(\"href\")\n",
    "    complete_next_page = \"https://www.flipkart.com\" + next_page\n",
    "    print(complete_next_page)"
   ]
  },
  {
   "cell_type": "code",
   "execution_count": 47,
   "metadata": {},
   "outputs": [],
   "source": []
  },
  {
   "cell_type": "code",
   "execution_count": null,
   "metadata": {},
   "outputs": [],
   "source": []
  }
 ],
 "metadata": {
  "kernelspec": {
   "display_name": "Python 3",
   "language": "python",
   "name": "python3"
  },
  "language_info": {
   "codemirror_mode": {
    "name": "ipython",
    "version": 3
   },
   "file_extension": ".py",
   "mimetype": "text/x-python",
   "name": "python",
   "nbconvert_exporter": "python",
   "pygments_lexer": "ipython3",
   "version": "3.10.4"
  },
  "orig_nbformat": 4,
  "vscode": {
   "interpreter": {
    "hash": "52634da84371cba311ea128a5ea7cdc41ff074b781779e754b270ff9f8153cee"
   }
  }
 },
 "nbformat": 4,
 "nbformat_minor": 2
}
